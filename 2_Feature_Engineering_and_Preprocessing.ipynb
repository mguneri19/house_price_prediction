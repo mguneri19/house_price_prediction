{
  "cells": [
    {
      "cell_type": "markdown",
      "metadata": {},
      "source": [
        "# 🏠 Ev Fiyat Tahmin Projesi - Feature Engineering ve Veri Ön İşleme\n",
        "\n",
        "Bu notebook, eksik değer doldurma ve basit özellik türetme adımlarını içerir.\n"
      ]
    },
    {
      "cell_type": "code",
      "execution_count": null,
      "metadata": {},
      "outputs": [],
      "source": [
        "import numpy as np\n",
        "import pandas as pd\n",
        "from sklearn.impute import SimpleImputer\n",
        "from sklearn.preprocessing import LabelEncoder\n",
        "\n",
        "pd.set_option('display.max_columns', None)\n",
        "print(\"✅ Kütüphaneler yüklendi\")\n"
      ]
    },
    {
      "cell_type": "code",
      "execution_count": null,
      "metadata": {},
      "outputs": [],
      "source": [
        "train = pd.read_csv('datasets/housePrice/house_price_train.csv')\n",
        "test = pd.read_csv('datasets/housePrice/house_price_test.csv')\n",
        "df = pd.concat([train, test], ignore_index=True)\n",
        "print(df.shape)\n",
        "df.head(2)\n"
      ]
    },
    {
      "cell_type": "code",
      "execution_count": null,
      "metadata": {},
      "outputs": [],
      "source": [
        "# Eksik değer doldurma: sayısal = median, kategorik = mode\n",
        "num_cols = df.select_dtypes(include=[np.number]).columns\n",
        "cat_cols = df.select_dtypes(include=['object']).columns\n",
        "\n",
        "if len(num_cols):\n",
        "    df[num_cols] = SimpleImputer(strategy='median').fit_transform(df[num_cols])\n",
        "if len(cat_cols):\n",
        "    df[cat_cols] = SimpleImputer(strategy='most_frequent').fit_transform(df[cat_cols])\n",
        "\n",
        "print(\"Eksik değer doldurma tamamlandı\")\n",
        "df.isnull().sum().sum()\n"
      ]
    },
    {
      "cell_type": "code",
      "execution_count": null,
      "metadata": {},
      "outputs": [],
      "source": [
        "# Basit özellikler\n",
        "if {'1stFlrSF','2ndFlrSF','TotalBsmtSF'}.issubset(df.columns):\n",
        "    df['TotalSF'] = df['1stFlrSF'] + df['2ndFlrSF'] + df['TotalBsmtSF']\n",
        "\n",
        "print(\"Yeni sütunlar:\", [c for c in df.columns if c.endswith('SF')][-5:])\n",
        "df[['TotalSF']].head() if 'TotalSF' in df.columns else df.head(1)\n"
      ]
    },
    {
      "cell_type": "code",
      "execution_count": null,
      "metadata": {},
      "outputs": [],
      "source": [
        "# Notebook çıktısı olarak sadece df şekli gösterelim (kaydetme opsiyonel)\n",
        "print(\"Güncel şekil:\", df.shape)\n"
      ]
    }
  ],
  "metadata": {
    "language_info": {
      "name": "python"
    }
  },
  "nbformat": 4,
  "nbformat_minor": 2
}
