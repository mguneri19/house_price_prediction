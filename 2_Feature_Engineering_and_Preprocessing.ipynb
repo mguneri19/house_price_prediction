{
 "cells": [
  {
   "cell_type": "markdown",
   "metadata": {},
   "source": [
    "# 🏠 Ev Fiyat Tahmin Projesi - Feature Engineering ve Veri Ön İşleme\n",
    "\n",
    "Bu notebook, eksik değer doldurma ve basit özellik türetme adımlarını içerir.\n"
   ]
  },
  {
   "cell_type": "code",
   "execution_count": 1,
   "metadata": {
    "execution": {
     "iopub.execute_input": "2025-08-08T12:08:06.344088Z",
     "iopub.status.busy": "2025-08-08T12:08:06.343845Z",
     "iopub.status.idle": "2025-08-08T12:08:06.841338Z",
     "shell.execute_reply": "2025-08-08T12:08:06.841098Z"
    }
   },
   "outputs": [
    {
     "name": "stdout",
     "output_type": "stream",
     "text": [
      "✅ Kütüphaneler yüklendi\n"
     ]
    }
   ],
   "source": [
    "import numpy as np\n",
    "import pandas as pd\n",
    "from sklearn.impute import SimpleImputer\n",
    "from sklearn.preprocessing import LabelEncoder\n",
    "\n",
    "pd.set_option('display.max_columns', None)\n",
    "print(\"✅ Kütüphaneler yüklendi\")\n"
   ]
  },
  {
   "cell_type": "code",
   "execution_count": 2,
   "metadata": {
    "execution": {
     "iopub.execute_input": "2025-08-08T12:08:06.852790Z",
     "iopub.status.busy": "2025-08-08T12:08:06.852668Z",
     "iopub.status.idle": "2025-08-08T12:08:07.049670Z",
     "shell.execute_reply": "2025-08-08T12:08:07.049475Z"
    }
   },
   "outputs": [
    {
     "name": "stdout",
     "output_type": "stream",
     "text": [
      "ml_utils import edildi\n"
     ]
    }
   ],
   "source": [
    "from ml_utils import (\n",
    "    outlier_thresholds, replace_with_thresholds,\n",
    "    quick_missing_imp, rare_encoder,\n",
    "    grab_col_names, label_encoder, one_hot_encoder,\n",
    "    target_mean_encode, plot_importance\n",
    ")\n",
    "print(\"ml_utils import edildi\")\n"
   ]
  },
  {
   "cell_type": "code",
   "execution_count": 3,
   "metadata": {
    "execution": {
     "iopub.execute_input": "2025-08-08T12:08:07.050757Z",
     "iopub.status.busy": "2025-08-08T12:08:07.050672Z",
     "iopub.status.idle": "2025-08-08T12:08:07.071172Z",
     "shell.execute_reply": "2025-08-08T12:08:07.070980Z"
    }
   },
   "outputs": [
    {
     "name": "stdout",
     "output_type": "stream",
     "text": [
      "(2919, 81)\n"
     ]
    },
    {
     "data": {
      "text/html": [
       "<div>\n",
       "<style scoped>\n",
       "    .dataframe tbody tr th:only-of-type {\n",
       "        vertical-align: middle;\n",
       "    }\n",
       "\n",
       "    .dataframe tbody tr th {\n",
       "        vertical-align: top;\n",
       "    }\n",
       "\n",
       "    .dataframe thead th {\n",
       "        text-align: right;\n",
       "    }\n",
       "</style>\n",
       "<table border=\"1\" class=\"dataframe\">\n",
       "  <thead>\n",
       "    <tr style=\"text-align: right;\">\n",
       "      <th></th>\n",
       "      <th>Id</th>\n",
       "      <th>MSSubClass</th>\n",
       "      <th>MSZoning</th>\n",
       "      <th>LotFrontage</th>\n",
       "      <th>LotArea</th>\n",
       "      <th>Street</th>\n",
       "      <th>Alley</th>\n",
       "      <th>LotShape</th>\n",
       "      <th>LandContour</th>\n",
       "      <th>Utilities</th>\n",
       "      <th>LotConfig</th>\n",
       "      <th>LandSlope</th>\n",
       "      <th>Neighborhood</th>\n",
       "      <th>Condition1</th>\n",
       "      <th>Condition2</th>\n",
       "      <th>BldgType</th>\n",
       "      <th>HouseStyle</th>\n",
       "      <th>OverallQual</th>\n",
       "      <th>OverallCond</th>\n",
       "      <th>YearBuilt</th>\n",
       "      <th>YearRemodAdd</th>\n",
       "      <th>RoofStyle</th>\n",
       "      <th>RoofMatl</th>\n",
       "      <th>Exterior1st</th>\n",
       "      <th>Exterior2nd</th>\n",
       "      <th>MasVnrType</th>\n",
       "      <th>MasVnrArea</th>\n",
       "      <th>ExterQual</th>\n",
       "      <th>ExterCond</th>\n",
       "      <th>Foundation</th>\n",
       "      <th>BsmtQual</th>\n",
       "      <th>BsmtCond</th>\n",
       "      <th>BsmtExposure</th>\n",
       "      <th>BsmtFinType1</th>\n",
       "      <th>BsmtFinSF1</th>\n",
       "      <th>BsmtFinType2</th>\n",
       "      <th>BsmtFinSF2</th>\n",
       "      <th>BsmtUnfSF</th>\n",
       "      <th>TotalBsmtSF</th>\n",
       "      <th>Heating</th>\n",
       "      <th>HeatingQC</th>\n",
       "      <th>CentralAir</th>\n",
       "      <th>Electrical</th>\n",
       "      <th>1stFlrSF</th>\n",
       "      <th>2ndFlrSF</th>\n",
       "      <th>LowQualFinSF</th>\n",
       "      <th>GrLivArea</th>\n",
       "      <th>BsmtFullBath</th>\n",
       "      <th>BsmtHalfBath</th>\n",
       "      <th>FullBath</th>\n",
       "      <th>HalfBath</th>\n",
       "      <th>BedroomAbvGr</th>\n",
       "      <th>KitchenAbvGr</th>\n",
       "      <th>KitchenQual</th>\n",
       "      <th>TotRmsAbvGrd</th>\n",
       "      <th>Functional</th>\n",
       "      <th>Fireplaces</th>\n",
       "      <th>FireplaceQu</th>\n",
       "      <th>GarageType</th>\n",
       "      <th>GarageYrBlt</th>\n",
       "      <th>GarageFinish</th>\n",
       "      <th>GarageCars</th>\n",
       "      <th>GarageArea</th>\n",
       "      <th>GarageQual</th>\n",
       "      <th>GarageCond</th>\n",
       "      <th>PavedDrive</th>\n",
       "      <th>WoodDeckSF</th>\n",
       "      <th>OpenPorchSF</th>\n",
       "      <th>EnclosedPorch</th>\n",
       "      <th>3SsnPorch</th>\n",
       "      <th>ScreenPorch</th>\n",
       "      <th>PoolArea</th>\n",
       "      <th>PoolQC</th>\n",
       "      <th>Fence</th>\n",
       "      <th>MiscFeature</th>\n",
       "      <th>MiscVal</th>\n",
       "      <th>MoSold</th>\n",
       "      <th>YrSold</th>\n",
       "      <th>SaleType</th>\n",
       "      <th>SaleCondition</th>\n",
       "      <th>SalePrice</th>\n",
       "    </tr>\n",
       "  </thead>\n",
       "  <tbody>\n",
       "    <tr>\n",
       "      <th>0</th>\n",
       "      <td>1</td>\n",
       "      <td>60</td>\n",
       "      <td>RL</td>\n",
       "      <td>65.0</td>\n",
       "      <td>8450</td>\n",
       "      <td>Pave</td>\n",
       "      <td>NaN</td>\n",
       "      <td>Reg</td>\n",
       "      <td>Lvl</td>\n",
       "      <td>AllPub</td>\n",
       "      <td>Inside</td>\n",
       "      <td>Gtl</td>\n",
       "      <td>CollgCr</td>\n",
       "      <td>Norm</td>\n",
       "      <td>Norm</td>\n",
       "      <td>1Fam</td>\n",
       "      <td>2Story</td>\n",
       "      <td>7</td>\n",
       "      <td>5</td>\n",
       "      <td>2003</td>\n",
       "      <td>2003</td>\n",
       "      <td>Gable</td>\n",
       "      <td>CompShg</td>\n",
       "      <td>VinylSd</td>\n",
       "      <td>VinylSd</td>\n",
       "      <td>BrkFace</td>\n",
       "      <td>196.0</td>\n",
       "      <td>Gd</td>\n",
       "      <td>TA</td>\n",
       "      <td>PConc</td>\n",
       "      <td>Gd</td>\n",
       "      <td>TA</td>\n",
       "      <td>No</td>\n",
       "      <td>GLQ</td>\n",
       "      <td>706.0</td>\n",
       "      <td>Unf</td>\n",
       "      <td>0.0</td>\n",
       "      <td>150.0</td>\n",
       "      <td>856.0</td>\n",
       "      <td>GasA</td>\n",
       "      <td>Ex</td>\n",
       "      <td>Y</td>\n",
       "      <td>SBrkr</td>\n",
       "      <td>856</td>\n",
       "      <td>854</td>\n",
       "      <td>0</td>\n",
       "      <td>1710</td>\n",
       "      <td>1.0</td>\n",
       "      <td>0.0</td>\n",
       "      <td>2</td>\n",
       "      <td>1</td>\n",
       "      <td>3</td>\n",
       "      <td>1</td>\n",
       "      <td>Gd</td>\n",
       "      <td>8</td>\n",
       "      <td>Typ</td>\n",
       "      <td>0</td>\n",
       "      <td>NaN</td>\n",
       "      <td>Attchd</td>\n",
       "      <td>2003.0</td>\n",
       "      <td>RFn</td>\n",
       "      <td>2.0</td>\n",
       "      <td>548.0</td>\n",
       "      <td>TA</td>\n",
       "      <td>TA</td>\n",
       "      <td>Y</td>\n",
       "      <td>0</td>\n",
       "      <td>61</td>\n",
       "      <td>0</td>\n",
       "      <td>0</td>\n",
       "      <td>0</td>\n",
       "      <td>0</td>\n",
       "      <td>NaN</td>\n",
       "      <td>NaN</td>\n",
       "      <td>NaN</td>\n",
       "      <td>0</td>\n",
       "      <td>2</td>\n",
       "      <td>2008</td>\n",
       "      <td>WD</td>\n",
       "      <td>Normal</td>\n",
       "      <td>208500.0</td>\n",
       "    </tr>\n",
       "    <tr>\n",
       "      <th>1</th>\n",
       "      <td>2</td>\n",
       "      <td>20</td>\n",
       "      <td>RL</td>\n",
       "      <td>80.0</td>\n",
       "      <td>9600</td>\n",
       "      <td>Pave</td>\n",
       "      <td>NaN</td>\n",
       "      <td>Reg</td>\n",
       "      <td>Lvl</td>\n",
       "      <td>AllPub</td>\n",
       "      <td>FR2</td>\n",
       "      <td>Gtl</td>\n",
       "      <td>Veenker</td>\n",
       "      <td>Feedr</td>\n",
       "      <td>Norm</td>\n",
       "      <td>1Fam</td>\n",
       "      <td>1Story</td>\n",
       "      <td>6</td>\n",
       "      <td>8</td>\n",
       "      <td>1976</td>\n",
       "      <td>1976</td>\n",
       "      <td>Gable</td>\n",
       "      <td>CompShg</td>\n",
       "      <td>MetalSd</td>\n",
       "      <td>MetalSd</td>\n",
       "      <td>NaN</td>\n",
       "      <td>0.0</td>\n",
       "      <td>TA</td>\n",
       "      <td>TA</td>\n",
       "      <td>CBlock</td>\n",
       "      <td>Gd</td>\n",
       "      <td>TA</td>\n",
       "      <td>Gd</td>\n",
       "      <td>ALQ</td>\n",
       "      <td>978.0</td>\n",
       "      <td>Unf</td>\n",
       "      <td>0.0</td>\n",
       "      <td>284.0</td>\n",
       "      <td>1262.0</td>\n",
       "      <td>GasA</td>\n",
       "      <td>Ex</td>\n",
       "      <td>Y</td>\n",
       "      <td>SBrkr</td>\n",
       "      <td>1262</td>\n",
       "      <td>0</td>\n",
       "      <td>0</td>\n",
       "      <td>1262</td>\n",
       "      <td>0.0</td>\n",
       "      <td>1.0</td>\n",
       "      <td>2</td>\n",
       "      <td>0</td>\n",
       "      <td>3</td>\n",
       "      <td>1</td>\n",
       "      <td>TA</td>\n",
       "      <td>6</td>\n",
       "      <td>Typ</td>\n",
       "      <td>1</td>\n",
       "      <td>TA</td>\n",
       "      <td>Attchd</td>\n",
       "      <td>1976.0</td>\n",
       "      <td>RFn</td>\n",
       "      <td>2.0</td>\n",
       "      <td>460.0</td>\n",
       "      <td>TA</td>\n",
       "      <td>TA</td>\n",
       "      <td>Y</td>\n",
       "      <td>298</td>\n",
       "      <td>0</td>\n",
       "      <td>0</td>\n",
       "      <td>0</td>\n",
       "      <td>0</td>\n",
       "      <td>0</td>\n",
       "      <td>NaN</td>\n",
       "      <td>NaN</td>\n",
       "      <td>NaN</td>\n",
       "      <td>0</td>\n",
       "      <td>5</td>\n",
       "      <td>2007</td>\n",
       "      <td>WD</td>\n",
       "      <td>Normal</td>\n",
       "      <td>181500.0</td>\n",
       "    </tr>\n",
       "  </tbody>\n",
       "</table>\n",
       "</div>"
      ],
      "text/plain": [
       "   Id  MSSubClass MSZoning  LotFrontage  LotArea Street Alley LotShape  \\\n",
       "0   1          60       RL         65.0     8450   Pave   NaN      Reg   \n",
       "1   2          20       RL         80.0     9600   Pave   NaN      Reg   \n",
       "\n",
       "  LandContour Utilities LotConfig LandSlope Neighborhood Condition1  \\\n",
       "0         Lvl    AllPub    Inside       Gtl      CollgCr       Norm   \n",
       "1         Lvl    AllPub       FR2       Gtl      Veenker      Feedr   \n",
       "\n",
       "  Condition2 BldgType HouseStyle  OverallQual  OverallCond  YearBuilt  \\\n",
       "0       Norm     1Fam     2Story            7            5       2003   \n",
       "1       Norm     1Fam     1Story            6            8       1976   \n",
       "\n",
       "   YearRemodAdd RoofStyle RoofMatl Exterior1st Exterior2nd MasVnrType  \\\n",
       "0          2003     Gable  CompShg     VinylSd     VinylSd    BrkFace   \n",
       "1          1976     Gable  CompShg     MetalSd     MetalSd        NaN   \n",
       "\n",
       "   MasVnrArea ExterQual ExterCond Foundation BsmtQual BsmtCond BsmtExposure  \\\n",
       "0       196.0        Gd        TA      PConc       Gd       TA           No   \n",
       "1         0.0        TA        TA     CBlock       Gd       TA           Gd   \n",
       "\n",
       "  BsmtFinType1  BsmtFinSF1 BsmtFinType2  BsmtFinSF2  BsmtUnfSF  TotalBsmtSF  \\\n",
       "0          GLQ       706.0          Unf         0.0      150.0        856.0   \n",
       "1          ALQ       978.0          Unf         0.0      284.0       1262.0   \n",
       "\n",
       "  Heating HeatingQC CentralAir Electrical  1stFlrSF  2ndFlrSF  LowQualFinSF  \\\n",
       "0    GasA        Ex          Y      SBrkr       856       854             0   \n",
       "1    GasA        Ex          Y      SBrkr      1262         0             0   \n",
       "\n",
       "   GrLivArea  BsmtFullBath  BsmtHalfBath  FullBath  HalfBath  BedroomAbvGr  \\\n",
       "0       1710           1.0           0.0         2         1             3   \n",
       "1       1262           0.0           1.0         2         0             3   \n",
       "\n",
       "   KitchenAbvGr KitchenQual  TotRmsAbvGrd Functional  Fireplaces FireplaceQu  \\\n",
       "0             1          Gd             8        Typ           0         NaN   \n",
       "1             1          TA             6        Typ           1          TA   \n",
       "\n",
       "  GarageType  GarageYrBlt GarageFinish  GarageCars  GarageArea GarageQual  \\\n",
       "0     Attchd       2003.0          RFn         2.0       548.0         TA   \n",
       "1     Attchd       1976.0          RFn         2.0       460.0         TA   \n",
       "\n",
       "  GarageCond PavedDrive  WoodDeckSF  OpenPorchSF  EnclosedPorch  3SsnPorch  \\\n",
       "0         TA          Y           0           61              0          0   \n",
       "1         TA          Y         298            0              0          0   \n",
       "\n",
       "   ScreenPorch  PoolArea PoolQC Fence MiscFeature  MiscVal  MoSold  YrSold  \\\n",
       "0            0         0    NaN   NaN         NaN        0       2    2008   \n",
       "1            0         0    NaN   NaN         NaN        0       5    2007   \n",
       "\n",
       "  SaleType SaleCondition  SalePrice  \n",
       "0       WD        Normal   208500.0  \n",
       "1       WD        Normal   181500.0  "
      ]
     },
     "execution_count": 3,
     "metadata": {},
     "output_type": "execute_result"
    }
   ],
   "source": [
    "train = pd.read_csv('datasets/housePrice/house_price_train.csv')\n",
    "test = pd.read_csv('datasets/housePrice/house_price_test.csv')\n",
    "df = pd.concat([train, test], ignore_index=True)\n",
    "print(df.shape)\n",
    "df.head(2)\n"
   ]
  },
  {
   "cell_type": "code",
   "execution_count": 4,
   "metadata": {
    "execution": {
     "iopub.execute_input": "2025-08-08T12:08:07.072149Z",
     "iopub.status.busy": "2025-08-08T12:08:07.072083Z",
     "iopub.status.idle": "2025-08-08T12:08:07.094641Z",
     "shell.execute_reply": "2025-08-08T12:08:07.094452Z"
    }
   },
   "outputs": [
    {
     "name": "stdout",
     "output_type": "stream",
     "text": [
      "Eksik değer doldurma (SalePrice hariç) tamamlandı\n"
     ]
    },
    {
     "data": {
      "text/plain": [
       "1459"
      ]
     },
     "execution_count": 4,
     "metadata": {},
     "output_type": "execute_result"
    }
   ],
   "source": [
    "# Eksik değer doldurma: sayısal = median (SalePrice HARİÇ), kategorik = mode\n",
    "num_cols = [c for c in df.select_dtypes(include=[np.number]).columns if c != 'SalePrice']\n",
    "cat_cols = df.select_dtypes(include=['object']).columns\n",
    "\n",
    "if len(num_cols):\n",
    "    df[num_cols] = SimpleImputer(strategy='median').fit_transform(df[num_cols])\n",
    "if len(cat_cols):\n",
    "    df[cat_cols] = SimpleImputer(strategy='most_frequent').fit_transform(df[cat_cols])\n",
    "\n",
    "print(\"Eksik değer doldurma (SalePrice hariç) tamamlandı\")\n",
    "df.isnull().sum().sum()\n"
   ]
  },
  {
   "cell_type": "code",
   "execution_count": 5,
   "metadata": {
    "execution": {
     "iopub.execute_input": "2025-08-08T12:08:07.095633Z",
     "iopub.status.busy": "2025-08-08T12:08:07.095573Z",
     "iopub.status.idle": "2025-08-08T12:08:07.098556Z",
     "shell.execute_reply": "2025-08-08T12:08:07.098370Z"
    }
   },
   "outputs": [
    {
     "name": "stdout",
     "output_type": "stream",
     "text": [
      "Yeni sütunlar: ['2ndFlrSF', 'LowQualFinSF', 'WoodDeckSF', 'OpenPorchSF', 'TotalSF']\n"
     ]
    },
    {
     "data": {
      "text/html": [
       "<div>\n",
       "<style scoped>\n",
       "    .dataframe tbody tr th:only-of-type {\n",
       "        vertical-align: middle;\n",
       "    }\n",
       "\n",
       "    .dataframe tbody tr th {\n",
       "        vertical-align: top;\n",
       "    }\n",
       "\n",
       "    .dataframe thead th {\n",
       "        text-align: right;\n",
       "    }\n",
       "</style>\n",
       "<table border=\"1\" class=\"dataframe\">\n",
       "  <thead>\n",
       "    <tr style=\"text-align: right;\">\n",
       "      <th></th>\n",
       "      <th>TotalSF</th>\n",
       "    </tr>\n",
       "  </thead>\n",
       "  <tbody>\n",
       "    <tr>\n",
       "      <th>0</th>\n",
       "      <td>2566.0</td>\n",
       "    </tr>\n",
       "    <tr>\n",
       "      <th>1</th>\n",
       "      <td>2524.0</td>\n",
       "    </tr>\n",
       "    <tr>\n",
       "      <th>2</th>\n",
       "      <td>2706.0</td>\n",
       "    </tr>\n",
       "    <tr>\n",
       "      <th>3</th>\n",
       "      <td>2473.0</td>\n",
       "    </tr>\n",
       "    <tr>\n",
       "      <th>4</th>\n",
       "      <td>3343.0</td>\n",
       "    </tr>\n",
       "  </tbody>\n",
       "</table>\n",
       "</div>"
      ],
      "text/plain": [
       "   TotalSF\n",
       "0   2566.0\n",
       "1   2524.0\n",
       "2   2706.0\n",
       "3   2473.0\n",
       "4   3343.0"
      ]
     },
     "execution_count": 5,
     "metadata": {},
     "output_type": "execute_result"
    }
   ],
   "source": [
    "# Basit özellikler\n",
    "if {'1stFlrSF','2ndFlrSF','TotalBsmtSF'}.issubset(df.columns):\n",
    "    df['TotalSF'] = df['1stFlrSF'] + df['2ndFlrSF'] + df['TotalBsmtSF']\n",
    "\n",
    "print(\"Yeni sütunlar:\", [c for c in df.columns if c.endswith('SF')][-5:])\n",
    "df[['TotalSF']].head() if 'TotalSF' in df.columns else df.head(1)\n"
   ]
  },
  {
   "cell_type": "code",
   "execution_count": 6,
   "metadata": {
    "execution": {
     "iopub.execute_input": "2025-08-08T12:08:07.099514Z",
     "iopub.status.busy": "2025-08-08T12:08:07.099459Z",
     "iopub.status.idle": "2025-08-08T12:08:07.100715Z",
     "shell.execute_reply": "2025-08-08T12:08:07.100523Z"
    }
   },
   "outputs": [
    {
     "name": "stdout",
     "output_type": "stream",
     "text": [
      "Güncel şekil: (2919, 82)\n"
     ]
    }
   ],
   "source": [
    "# Notebook çıktısı olarak sadece df şekli gösterelim (kaydetme opsiyonel)\n",
    "print(\"Güncel şekil:\", df.shape)\n"
   ]
  },
  {
   "cell_type": "markdown",
   "metadata": {},
   "source": [
    "## 🧱 Aykırı Değer (Outlier) İşleme\n",
    "Sayısal değişkenlerde IQR yöntemine göre alt/üst sınırları kullanarak kırpma (winsorize) uygularız.\n"
   ]
  },
  {
   "cell_type": "code",
   "execution_count": 7,
   "metadata": {
    "execution": {
     "iopub.execute_input": "2025-08-08T12:08:07.101632Z",
     "iopub.status.busy": "2025-08-08T12:08:07.101581Z",
     "iopub.status.idle": "2025-08-08T12:08:07.120112Z",
     "shell.execute_reply": "2025-08-08T12:08:07.119938Z"
    }
   },
   "outputs": [
    {
     "name": "stdout",
     "output_type": "stream",
     "text": [
      "Aykırı değer baskılama tamamlandı (0.10-0.90 IQR yöntemi)\n"
     ]
    }
   ],
   "source": [
    "for col in num_cols:\n",
    "    if col != 'SalePrice':\n",
    "        replace_with_thresholds(df, col)\n",
    "\n",
    "print('Aykırı değer baskılama tamamlandı (0.10-0.90 IQR yöntemi)')\n"
   ]
  },
  {
   "cell_type": "code",
   "execution_count": 8,
   "metadata": {
    "execution": {
     "iopub.execute_input": "2025-08-08T12:08:07.121010Z",
     "iopub.status.busy": "2025-08-08T12:08:07.120957Z",
     "iopub.status.idle": "2025-08-08T12:08:07.124275Z",
     "shell.execute_reply": "2025-08-08T12:08:07.124086Z"
    }
   },
   "outputs": [
    {
     "name": "stdout",
     "output_type": "stream",
     "text": [
      "\"No\" ile doldurulan sütunlar işlendi\n"
     ]
    }
   ],
   "source": [
    "no_cols = ['Alley','BsmtQual','BsmtCond','BsmtExposure','BsmtFinType1','BsmtFinType2','FireplaceQu',\n",
    "           'GarageType','GarageFinish','GarageQual','GarageCond','PoolQC','Fence','MiscFeature']\n",
    "for col in [c for c in no_cols if c in df.columns]:\n",
    "    df[col] = df[col].fillna('No')\n",
    "print('\"No\" ile doldurulan sütunlar işlendi')\n"
   ]
  },
  {
   "cell_type": "code",
   "execution_count": 9,
   "metadata": {
    "execution": {
     "iopub.execute_input": "2025-08-08T12:08:07.125179Z",
     "iopub.status.busy": "2025-08-08T12:08:07.125126Z",
     "iopub.status.idle": "2025-08-08T12:08:07.138764Z",
     "shell.execute_reply": "2025-08-08T12:08:07.138581Z"
    }
   },
   "outputs": [
    {
     "name": "stdout",
     "output_type": "stream",
     "text": [
      "Eksik değer doldurma (quick_missing_imp) tamamlandı\n"
     ]
    }
   ],
   "source": [
    "df = quick_missing_imp(df, num_method='median', cat_length=17)\n",
    "print('Eksik değer doldurma (quick_missing_imp) tamamlandı')\n"
   ]
  },
  {
   "cell_type": "code",
   "execution_count": 10,
   "metadata": {
    "execution": {
     "iopub.execute_input": "2025-08-08T12:08:07.139677Z",
     "iopub.status.busy": "2025-08-08T12:08:07.139622Z",
     "iopub.status.idle": "2025-08-08T12:08:07.155269Z",
     "shell.execute_reply": "2025-08-08T12:08:07.155088Z"
    }
   },
   "outputs": [
    {
     "name": "stdout",
     "output_type": "stream",
     "text": [
      "Rare encoder uygulandı\n"
     ]
    }
   ],
   "source": [
    "df = rare_encoder(df, rare_perc=0.01)\n",
    "print('Rare encoder uygulandı')\n"
   ]
  },
  {
   "cell_type": "markdown",
   "metadata": {},
   "source": [
    "## 🧩 Hedefe Duyarlı Kategorik Kodlama (Target Mean Encoding)\n",
    "Sınırlı örnekleme hatasından kaçınmak için basit smoothing ile ortalama kodlama uygularız.\n"
   ]
  },
  {
   "cell_type": "code",
   "execution_count": 11,
   "metadata": {
    "execution": {
     "iopub.execute_input": "2025-08-08T12:08:07.156226Z",
     "iopub.status.busy": "2025-08-08T12:08:07.156177Z",
     "iopub.status.idle": "2025-08-08T12:08:07.160152Z",
     "shell.execute_reply": "2025-08-08T12:08:07.159964Z"
    }
   },
   "outputs": [
    {
     "name": "stdout",
     "output_type": "stream",
     "text": [
      "Ek özellikler eklendi\n"
     ]
    }
   ],
   "source": [
    "# Ek özellikler (script ile hizalı)\n",
    "if {'1stFlrSF','GrLivArea'}.issubset(df.columns):\n",
    "    df['NEW_1st*GrLiv'] = df['1stFlrSF'] * df['GrLivArea']\n",
    "if {'GarageArea','GrLivArea'}.issubset(df.columns):\n",
    "    df['NEW_Garage*GrLiv'] = df['GarageArea'] * df['GrLivArea']\n",
    "\n",
    "qual_cols = [\"OverallQual\", \"OverallCond\", \"ExterQual\", \"ExterCond\", \"BsmtCond\", \"BsmtFinType1\",\n",
    "             \"BsmtFinType2\", \"HeatingQC\", \"KitchenQual\", \"Functional\", \"FireplaceQu\", \"GarageQual\", \"GarageCond\", \"Fence\"]\n",
    "numeric_qual_cols = [col for col in qual_cols if col in df.columns and df[col].dtype in ['int64','float64']]\n",
    "df['TotalQual'] = df[numeric_qual_cols].sum(axis=1) if numeric_qual_cols else 0\n",
    "\n",
    "if {'GrLivArea','TotalBsmtSF'}.issubset(df.columns):\n",
    "    df['NEW_TotalSqFeet'] = df['GrLivArea'] + df['TotalBsmtSF']\n",
    "if {'GarageArea','LotArea'}.issubset(df.columns):\n",
    "    df['NEW_GarageLotRatio'] = df['GarageArea'] / df['LotArea']\n",
    "if {'MasVnrArea','NEW_TotalHouseArea'}.issubset(df.columns):\n",
    "    df['NEW_MasVnrRatio'] = df['MasVnrArea'] / df['NEW_TotalHouseArea']\n",
    "if {'LotArea','1stFlrSF','GarageArea','NEW_PorchArea','WoodDeckSF'}.issubset(df.columns):\n",
    "    df['NEW_DifArea'] = (df['LotArea'] - df['1stFlrSF'] - df['GarageArea'] - df['NEW_PorchArea'] - df['WoodDeckSF'])\n",
    "if {'OverallQual','OverallCond'}.issubset(df.columns):\n",
    "    df['NEW_OverallGrade'] = df['OverallQual'] * df['OverallCond']\n",
    "if {'YrSold','GarageYrBlt'}.issubset(df.columns):\n",
    "    df['NEW_GarageSold'] = df['YrSold'] - df['GarageYrBlt']\n",
    "\n",
    "print('Ek özellikler eklendi')\n"
   ]
  },
  {
   "cell_type": "code",
   "execution_count": 12,
   "metadata": {
    "execution": {
     "iopub.execute_input": "2025-08-08T12:08:07.161115Z",
     "iopub.status.busy": "2025-08-08T12:08:07.161046Z",
     "iopub.status.idle": "2025-08-08T12:08:07.163841Z",
     "shell.execute_reply": "2025-08-08T12:08:07.163662Z"
    }
   },
   "outputs": [
    {
     "name": "stdout",
     "output_type": "stream",
     "text": [
      "Gereksiz sütunlar düşürüldü\n"
     ]
    }
   ],
   "source": [
    "# Drop list (script ile hizalı)\n",
    "drop_list = ['Street','Alley','LandContour','Utilities','LandSlope','Heating','PoolQC','MiscFeature','Neighborhood']\n",
    "df = df.drop([c for c in drop_list if c in df.columns], axis=1)\n",
    "print('Gereksiz sütunlar düşürüldü')\n"
   ]
  },
  {
   "cell_type": "code",
   "execution_count": 13,
   "metadata": {
    "execution": {
     "iopub.execute_input": "2025-08-08T12:08:07.164735Z",
     "iopub.status.busy": "2025-08-08T12:08:07.164684Z",
     "iopub.status.idle": "2025-08-08T12:08:07.182284Z",
     "shell.execute_reply": "2025-08-08T12:08:07.182094Z"
    }
   },
   "outputs": [
    {
     "name": "stdout",
     "output_type": "stream",
     "text": [
      "Encoding tamamlandı. Son şekil: (2919, 186)\n"
     ]
    }
   ],
   "source": [
    "# Encoding (Label + One-Hot) — ml_utils sürümü\n",
    "cat_cols, cat_but_car, num_cols = grab_col_names(df)\n",
    "\n",
    "binary_cols = [col for col in df.columns if df[col].dtype == 'O' and df[col].nunique() == 2]\n",
    "for col in binary_cols:\n",
    "    df = label_encoder(df, col)\n",
    "\n",
    "df = one_hot_encoder(df, cat_cols, drop_first=True)\n",
    "print('Encoding tamamlandı. Son şekil:', df.shape)\n"
   ]
  },
  {
   "cell_type": "code",
   "execution_count": 14,
   "metadata": {
    "execution": {
     "iopub.execute_input": "2025-08-08T12:08:07.183221Z",
     "iopub.status.busy": "2025-08-08T12:08:07.183172Z",
     "iopub.status.idle": "2025-08-08T12:08:07.185217Z",
     "shell.execute_reply": "2025-08-08T12:08:07.185033Z"
    }
   },
   "outputs": [
    {
     "name": "stdout",
     "output_type": "stream",
     "text": [
      "Target mean encoding (smoothing) uygulandı\n"
     ]
    }
   ],
   "source": [
    "# Yalnızca train kısmında SalePrice mevcut olduğu için yalnız train'de fit edip df'e merge edeceğiz\n",
    "train_len = len(train)\n",
    "train_part = df.iloc[:train_len].copy()\n",
    "\n",
    "for col in ['MSZoning','Neighborhood','HouseStyle']:\n",
    "    if col in df.columns and 'SalePrice' in train_part.columns:\n",
    "        mapping = target_mean_encode(train_part, col)\n",
    "        df[f'TME_{col}'] = df[col].map(mapping)\n",
    "\n",
    "print(\"Target mean encoding (smoothing) uygulandı\")\n"
   ]
  },
  {
   "cell_type": "markdown",
   "metadata": {},
   "source": [
    "## 🔧 Gelişmiş Feature Engineering\n",
    "`house_prediction.py`'daki mantığa paralel örnekler: toplam kat alanı, toplam bodrum alanı, oranlar ve yaş değişkenleri.\n"
   ]
  },
  {
   "cell_type": "code",
   "execution_count": 15,
   "metadata": {
    "execution": {
     "iopub.execute_input": "2025-08-08T12:08:07.186159Z",
     "iopub.status.busy": "2025-08-08T12:08:07.186106Z",
     "iopub.status.idle": "2025-08-08T12:08:07.189489Z",
     "shell.execute_reply": "2025-08-08T12:08:07.189303Z"
    }
   },
   "outputs": [],
   "source": [
    "# Benzer türetmeler (var olan sütunlara göre korumalı koşullar)\n",
    "if {'1stFlrSF','2ndFlrSF'}.issubset(df.columns):\n",
    "    df['NEW_TotalFlrSF'] = df['1stFlrSF'] + df['2ndFlrSF']\n",
    "if {'BsmtFinSF1','BsmtFinSF2'}.issubset(df.columns):\n",
    "    df['NEW_TotalBsmtFin'] = df['BsmtFinSF1'] + df['BsmtFinSF2']\n",
    "if {'OpenPorchSF','EnclosedPorch','ScreenPorch','3SsnPorch','WoodDeckSF'}.issubset(df.columns):\n",
    "    df['NEW_PorchArea'] = df['OpenPorchSF'] + df['EnclosedPorch'] + df['ScreenPorch'] + df['3SsnPorch'] + df['WoodDeckSF']\n",
    "if {'YearRemodAdd','YearBuilt'}.issubset(df.columns):\n",
    "    df['NEW_Restoration'] = df['YearRemodAdd'] - df['YearBuilt']\n",
    "if {'YrSold','YearBuilt'}.issubset(df.columns):\n",
    "    df['NEW_HouseAge'] = df['YrSold'] - df['YearBuilt']\n",
    "if {'YrSold','YearRemodAdd'}.issubset(df.columns):\n",
    "    df['NEW_RestorationAge'] = df['YrSold'] - df['YearRemodAdd']\n",
    "if {'GarageYrBlt','YearBuilt'}.issubset(df.columns):\n",
    "    df['NEW_GarageAge'] = df['GarageYrBlt'] - df['YearBuilt']\n",
    "if {'GarageYrBlt','YearRemodAdd'}.issubset(df.columns):\n",
    "    df['NEW_GarageRestorationAge'] = (df['GarageYrBlt'] - df['YearRemodAdd']).abs()\n",
    "\n",
    "# Oranlar\n",
    "if {'GrLivArea','LotArea'}.issubset(df.columns):\n",
    "    df['NEW_LotRatio'] = df['GrLivArea'] / df['LotArea']\n",
    "if {'NEW_TotalFlrSF','TotalBsmtSF','LotArea'}.issubset(df.columns):\n",
    "    df['NEW_TotalHouseArea'] = df['NEW_TotalFlrSF'] + df['TotalBsmtSF']\n",
    "    df['NEW_RatioArea'] = df['NEW_TotalHouseArea'] / df['LotArea']\n"
   ]
  },
  {
   "cell_type": "markdown",
   "metadata": {},
   "source": [
    "## 💾 İşlenmiş Veriyi Kaydet (Opsiyonel)\n",
    "Modelleme notebook'u için CSV olarak kaydedebilirsiniz.\n"
   ]
  },
  {
   "cell_type": "code",
   "execution_count": 16,
   "metadata": {
    "execution": {
     "iopub.execute_input": "2025-08-08T12:08:07.190501Z",
     "iopub.status.busy": "2025-08-08T12:08:07.190450Z",
     "iopub.status.idle": "2025-08-08T12:08:07.246302Z",
     "shell.execute_reply": "2025-08-08T12:08:07.246106Z"
    }
   },
   "outputs": [
    {
     "name": "stdout",
     "output_type": "stream",
     "text": [
      "processed_data.csv kaydedildi. Şekil: (2919, 194)\n"
     ]
    }
   ],
   "source": [
    "df.to_csv('processed_data.csv', index=False)\n",
    "print('processed_data.csv kaydedildi. Şekil:', df.shape)\n"
   ]
  }
 ],
 "metadata": {
  "language_info": {
   "codemirror_mode": {
    "name": "ipython",
    "version": 3
   },
   "file_extension": ".py",
   "mimetype": "text/x-python",
   "name": "python",
   "nbconvert_exporter": "python",
   "pygments_lexer": "ipython3",
   "version": "3.11.8"
  }
 },
 "nbformat": 4,
 "nbformat_minor": 2
}
