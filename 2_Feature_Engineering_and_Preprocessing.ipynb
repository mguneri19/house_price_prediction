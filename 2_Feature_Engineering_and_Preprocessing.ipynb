{
  "cells": [
    {
      "cell_type": "markdown",
      "metadata": {},
      "source": [
        "# 🏠 Ev Fiyat Tahmin Projesi - Feature Engineering ve Veri Ön İşleme\n",
        "\n",
        "Bu notebook, eksik değer doldurma ve basit özellik türetme adımlarını içerir.\n"
      ]
    },
    {
      "cell_type": "code",
      "execution_count": null,
      "metadata": {},
      "outputs": [],
      "source": [
        "import numpy as np\n",
        "import pandas as pd\n",
        "from sklearn.impute import SimpleImputer\n",
        "from sklearn.preprocessing import LabelEncoder\n",
        "\n",
        "pd.set_option('display.max_columns', None)\n",
        "print(\"✅ Kütüphaneler yüklendi\")\n"
      ]
    },
    {
      "cell_type": "code",
      "execution_count": null,
      "metadata": {},
      "outputs": [],
      "source": [
        "train = pd.read_csv('datasets/housePrice/house_price_train.csv')\n",
        "test = pd.read_csv('datasets/housePrice/house_price_test.csv')\n",
        "df = pd.concat([train, test], ignore_index=True)\n",
        "print(df.shape)\n",
        "df.head(2)\n"
      ]
    },
    {
      "cell_type": "code",
      "execution_count": null,
      "metadata": {},
      "outputs": [],
      "source": [
        "# Eksik değer doldurma: sayısal = median, kategorik = mode\n",
        "num_cols = df.select_dtypes(include=[np.number]).columns\n",
        "cat_cols = df.select_dtypes(include=['object']).columns\n",
        "\n",
        "if len(num_cols):\n",
        "    df[num_cols] = SimpleImputer(strategy='median').fit_transform(df[num_cols])\n",
        "if len(cat_cols):\n",
        "    df[cat_cols] = SimpleImputer(strategy='most_frequent').fit_transform(df[cat_cols])\n",
        "\n",
        "print(\"Eksik değer doldurma tamamlandı\")\n",
        "df.isnull().sum().sum()\n"
      ]
    },
    {
      "cell_type": "code",
      "execution_count": null,
      "metadata": {},
      "outputs": [],
      "source": [
        "# Basit özellikler\n",
        "if {'1stFlrSF','2ndFlrSF','TotalBsmtSF'}.issubset(df.columns):\n",
        "    df['TotalSF'] = df['1stFlrSF'] + df['2ndFlrSF'] + df['TotalBsmtSF']\n",
        "\n",
        "print(\"Yeni sütunlar:\", [c for c in df.columns if c.endswith('SF')][-5:])\n",
        "df[['TotalSF']].head() if 'TotalSF' in df.columns else df.head(1)\n"
      ]
    },
    {
      "cell_type": "code",
      "execution_count": null,
      "metadata": {},
      "outputs": [],
      "source": [
        "# Notebook çıktısı olarak sadece df şekli gösterelim (kaydetme opsiyonel)\n",
        "print(\"Güncel şekil:\", df.shape)\n"
      ]
    },
    {
      "cell_type": "markdown",
      "metadata": {},
      "source": [
        "## 🧱 Aykırı Değer (Outlier) İşleme\n",
        "Sayısal değişkenlerde IQR yöntemine göre alt/üst sınırları kullanarak kırpma (winsorize) uygularız.\n"
      ]
    },
    {
      "cell_type": "code",
      "execution_count": null,
      "metadata": {},
      "outputs": [],
      "source": [
        "def outlier_thresholds(dataframe, variable, low_quantile=0.10, up_quantile=0.90):\n",
        "    q1 = dataframe[variable].quantile(low_quantile)\n",
        "    q3 = dataframe[variable].quantile(up_quantile)\n",
        "    iqr = q3 - q1\n",
        "    low_limit = q1 - 1.5 * iqr\n",
        "    up_limit = q3 + 1.5 * iqr\n",
        "    return low_limit, up_limit\n",
        "\n",
        "\n",
        "def replace_with_thresholds(dataframe, variable):\n",
        "    low_limit, up_limit = outlier_thresholds(dataframe, variable)\n",
        "    dataframe.loc[(dataframe[variable] < low_limit), variable] = low_limit\n",
        "    dataframe.loc[(dataframe[variable] > up_limit), variable] = up_limit\n",
        "\n",
        "for col in num_cols:\n",
        "    if col != 'SalePrice':\n",
        "        replace_with_thresholds(df, col)\n",
        "\n",
        "print('Aykırı değer baskılama tamamlandı (0.10-0.90 IQR yöntemi)')\n"
      ]
    },
    {
      "cell_type": "code",
      "execution_count": null,
      "metadata": {},
      "outputs": [],
      "source": [
        "no_cols = ['Alley','BsmtQual','BsmtCond','BsmtExposure','BsmtFinType1','BsmtFinType2','FireplaceQu',\n",
        "           'GarageType','GarageFinish','GarageQual','GarageCond','PoolQC','Fence','MiscFeature']\n",
        "for col in [c for c in no_cols if c in df.columns]:\n",
        "    df[col] = df[col].fillna('No')\n",
        "print('\"No\" ile doldurulan sütunlar işlendi')\n"
      ]
    },
    {
      "cell_type": "code",
      "execution_count": null,
      "metadata": {},
      "outputs": [],
      "source": [
        "def quick_missing_imp(data, num_method='median', cat_length=17, target='SalePrice'):\n",
        "    variables_with_na = [col for col in data.columns if data[col].isnull().sum() > 0]\n",
        "    temp_target = data[target] if target in data.columns else None\n",
        "    data = data.apply(lambda x: x.fillna(x.mode()[0]) if (x.dtype == 'O' and len(x.unique()) <= cat_length) else x)\n",
        "    if num_method == 'mean':\n",
        "        data = data.apply(lambda x: x.fillna(x.mean()) if x.dtype != 'O' else x)\n",
        "    else:\n",
        "        data = data.apply(lambda x: x.fillna(x.median()) if x.dtype != 'O' else x)\n",
        "    if temp_target is not None:\n",
        "        data[target] = temp_target\n",
        "    return data\n",
        "\n",
        "df = quick_missing_imp(df, num_method='median', cat_length=17)\n",
        "print('Eksik değer doldurma (quick_missing_imp) tamamlandı')\n"
      ]
    },
    {
      "cell_type": "code",
      "execution_count": null,
      "metadata": {},
      "outputs": [],
      "source": [
        "def rare_encoder(dataframe, rare_perc=0.01):\n",
        "    temp_df = dataframe.copy()\n",
        "    rare_columns = [col for col in temp_df.columns if temp_df[col].dtype == 'O' and (temp_df[col].value_counts() / len(temp_df) < rare_perc).any()]\n",
        "    for var in rare_columns:\n",
        "        tmp = temp_df[var].value_counts() / len(temp_df)\n",
        "        rare_labels = tmp[tmp < rare_perc].index\n",
        "        temp_df[var] = np.where(temp_df[var].isin(rare_labels), 'Rare', temp_df[var])\n",
        "    return temp_df\n",
        "\n",
        "df = rare_encoder(df, rare_perc=0.01)\n",
        "print('Rare encoder uygulandı')\n"
      ]
    },
    {
      "cell_type": "markdown",
      "metadata": {},
      "source": [
        "## 🧩 Hedefe Duyarlı Kategorik Kodlama (Target Mean Encoding)\n",
        "Sınırlı örnekleme hatasından kaçınmak için basit smoothing ile ortalama kodlama uygularız.\n"
      ]
    },
    {
      "cell_type": "code",
      "execution_count": null,
      "metadata": {},
      "outputs": [],
      "source": [
        "# Ek özellikler (script ile hizalı)\n",
        "if {'1stFlrSF','GrLivArea'}.issubset(df.columns):\n",
        "    df['NEW_1st*GrLiv'] = df['1stFlrSF'] * df['GrLivArea']\n",
        "if {'GarageArea','GrLivArea'}.issubset(df.columns):\n",
        "    df['NEW_Garage*GrLiv'] = df['GarageArea'] * df['GrLivArea']\n",
        "\n",
        "qual_cols = [\"OverallQual\", \"OverallCond\", \"ExterQual\", \"ExterCond\", \"BsmtCond\", \"BsmtFinType1\",\n",
        "             \"BsmtFinType2\", \"HeatingQC\", \"KitchenQual\", \"Functional\", \"FireplaceQu\", \"GarageQual\", \"GarageCond\", \"Fence\"]\n",
        "numeric_qual_cols = [col for col in qual_cols if col in df.columns and df[col].dtype in ['int64','float64']]\n",
        "df['TotalQual'] = df[numeric_qual_cols].sum(axis=1) if numeric_qual_cols else 0\n",
        "\n",
        "if {'GrLivArea','TotalBsmtSF'}.issubset(df.columns):\n",
        "    df['NEW_TotalSqFeet'] = df['GrLivArea'] + df['TotalBsmtSF']\n",
        "if {'GarageArea','LotArea'}.issubset(df.columns):\n",
        "    df['NEW_GarageLotRatio'] = df['GarageArea'] / df['LotArea']\n",
        "if {'MasVnrArea','NEW_TotalHouseArea'}.issubset(df.columns):\n",
        "    df['NEW_MasVnrRatio'] = df['MasVnrArea'] / df['NEW_TotalHouseArea']\n",
        "if {'LotArea','1stFlrSF','GarageArea','NEW_PorchArea','WoodDeckSF'}.issubset(df.columns):\n",
        "    df['NEW_DifArea'] = (df['LotArea'] - df['1stFlrSF'] - df['GarageArea'] - df['NEW_PorchArea'] - df['WoodDeckSF'])\n",
        "if {'OverallQual','OverallCond'}.issubset(df.columns):\n",
        "    df['NEW_OverallGrade'] = df['OverallQual'] * df['OverallCond']\n",
        "if {'YrSold','GarageYrBlt'}.issubset(df.columns):\n",
        "    df['NEW_GarageSold'] = df['YrSold'] - df['GarageYrBlt']\n",
        "\n",
        "print('Ek özellikler eklendi')\n"
      ]
    },
    {
      "cell_type": "code",
      "execution_count": null,
      "metadata": {},
      "outputs": [],
      "source": [
        "# Drop list (script ile hizalı)\n",
        "drop_list = ['Street','Alley','LandContour','Utilities','LandSlope','Heating','PoolQC','MiscFeature','Neighborhood']\n",
        "df = df.drop([c for c in drop_list if c in df.columns], axis=1)\n",
        "print('Gereksiz sütunlar düşürüldü')\n"
      ]
    },
    {
      "cell_type": "code",
      "execution_count": null,
      "metadata": {},
      "outputs": [],
      "source": [
        "# Encoding (Label + One-Hot)\n",
        "\n",
        "def grab_col_names(dataframe, cat_th=10, car_th=20):\n",
        "    cat_cols = [col for col in dataframe.columns if dataframe[col].dtype == 'O']\n",
        "    num_but_cat = [col for col in dataframe.columns if dataframe[col].nunique() < cat_th and dataframe[col].dtype != 'O']\n",
        "    cat_but_car = [col for col in dataframe.columns if dataframe[col].nunique() > car_th and dataframe[col].dtype == 'O']\n",
        "    cat_cols = [col for col in cat_cols + num_but_cat if col not in cat_but_car]\n",
        "    num_cols = [col for col in dataframe.columns if dataframe[col].dtype != 'O']\n",
        "    num_cols = [col for col in num_cols if col not in num_but_cat]\n",
        "    return cat_cols, cat_but_car, num_cols\n",
        "\n",
        "cat_cols, cat_but_car, num_cols = grab_col_names(df)\n",
        "\n",
        "from sklearn.preprocessing import LabelEncoder\n",
        "\n",
        "def label_encoder(dataframe, binary_col):\n",
        "    le = LabelEncoder()\n",
        "    dataframe[binary_col] = le.fit_transform(dataframe[binary_col])\n",
        "    return dataframe\n",
        "\n",
        "binary_cols = [col for col in df.columns if df[col].dtype == 'O' and df[col].nunique() == 2]\n",
        "for col in binary_cols:\n",
        "    df = label_encoder(df, col)\n",
        "\n",
        "\n",
        "def one_hot_encoder(dataframe, categorical_cols, drop_first=True):\n",
        "    return pd.get_dummies(dataframe, columns=categorical_cols, drop_first=drop_first)\n",
        "\n",
        "df = one_hot_encoder(df, cat_cols, drop_first=True)\n",
        "print('Encoding tamamlandı. Son şekil:', df.shape)\n"
      ]
    },
    {
      "cell_type": "code",
      "execution_count": null,
      "metadata": {},
      "outputs": [],
      "source": [
        "# Yalnızca train kısmında SalePrice mevcut olduğu için yalnız train'de fit edip df'e merge edeceğiz\n",
        "train_len = len(train)\n",
        "train_part = df.iloc[:train_len].copy()\n",
        "\n",
        "def target_mean_encode(frame, column, target='SalePrice', m=100):\n",
        "    global_mean = frame[target].mean()\n",
        "    stats = frame.groupby(column)[target].agg(['mean','count'])\n",
        "    smooth = (stats['count'] * stats['mean'] + m * global_mean) / (stats['count'] + m)\n",
        "    return smooth\n",
        "\n",
        "for col in ['MSZoning','Neighborhood','HouseStyle']:\n",
        "    if col in df.columns and 'SalePrice' in train_part.columns:\n",
        "        mapping = target_mean_encode(train_part, col)\n",
        "        df[f'TME_{col}'] = df[col].map(mapping)\n",
        "\n",
        "print(\"Target mean encoding (smoothing) uygulandı\")\n"
      ]
    },
    {
      "cell_type": "markdown",
      "metadata": {},
      "source": [
        "## 🔧 Gelişmiş Feature Engineering\n",
        "`house_prediction.py`'daki mantığa paralel örnekler: toplam kat alanı, toplam bodrum alanı, oranlar ve yaş değişkenleri.\n"
      ]
    },
    {
      "cell_type": "code",
      "execution_count": null,
      "metadata": {},
      "outputs": [],
      "source": [
        "# Benzer türetmeler (var olan sütunlara göre korumalı koşullar)\n",
        "if {'1stFlrSF','2ndFlrSF'}.issubset(df.columns):\n",
        "    df['NEW_TotalFlrSF'] = df['1stFlrSF'] + df['2ndFlrSF']\n",
        "if {'BsmtFinSF1','BsmtFinSF2'}.issubset(df.columns):\n",
        "    df['NEW_TotalBsmtFin'] = df['BsmtFinSF1'] + df['BsmtFinSF2']\n",
        "if {'OpenPorchSF','EnclosedPorch','ScreenPorch','3SsnPorch','WoodDeckSF'}.issubset(df.columns):\n",
        "    df['NEW_PorchArea'] = df['OpenPorchSF'] + df['EnclosedPorch'] + df['ScreenPorch'] + df['3SsnPorch'] + df['WoodDeckSF']\n",
        "if {'YearRemodAdd','YearBuilt'}.issubset(df.columns):\n",
        "    df['NEW_Restoration'] = df['YearRemodAdd'] - df['YearBuilt']\n",
        "if {'YrSold','YearBuilt'}.issubset(df.columns):\n",
        "    df['NEW_HouseAge'] = df['YrSold'] - df['YearBuilt']\n",
        "if {'YrSold','YearRemodAdd'}.issubset(df.columns):\n",
        "    df['NEW_RestorationAge'] = df['YrSold'] - df['YearRemodAdd']\n",
        "if {'GarageYrBlt','YearBuilt'}.issubset(df.columns):\n",
        "    df['NEW_GarageAge'] = df['GarageYrBlt'] - df['YearBuilt']\n",
        "if {'GarageYrBlt','YearRemodAdd'}.issubset(df.columns):\n",
        "    df['NEW_GarageRestorationAge'] = (df['GarageYrBlt'] - df['YearRemodAdd']).abs()\n",
        "\n",
        "# Oranlar\n",
        "if {'GrLivArea','LotArea'}.issubset(df.columns):\n",
        "    df['NEW_LotRatio'] = df['GrLivArea'] / df['LotArea']\n",
        "if {'NEW_TotalFlrSF','TotalBsmtSF','LotArea'}.issubset(df.columns):\n",
        "    df['NEW_TotalHouseArea'] = df['NEW_TotalFlrSF'] + df['TotalBsmtSF']\n",
        "    df['NEW_RatioArea'] = df['NEW_TotalHouseArea'] / df['LotArea']\n"
      ]
    },
    {
      "cell_type": "markdown",
      "metadata": {},
      "source": [
        "## 💾 İşlenmiş Veriyi Kaydet (Opsiyonel)\n",
        "Modelleme notebook'u için CSV olarak kaydedebilirsiniz.\n"
      ]
    },
    {
      "cell_type": "code",
      "execution_count": null,
      "metadata": {},
      "outputs": [],
      "source": [
        "# df.to_csv('processed_data.csv', index=False)\n",
        "print('Hazır veri şekli:', df.shape)\n"
      ]
    }
  ],
  "metadata": {
    "language_info": {
      "name": "python"
    }
  },
  "nbformat": 4,
  "nbformat_minor": 2
}
