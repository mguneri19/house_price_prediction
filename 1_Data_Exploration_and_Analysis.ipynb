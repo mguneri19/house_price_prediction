{
  "cells": [
    {
      "cell_type": "markdown",
      "metadata": {},
      "source": [
        "# 🏠 Ev Fiyat Tahmin Projesi - Veri Keşfi ve Analizi\n",
        "\n",
        "Bu notebook, Kaggle House Prices veri seti üzerinde veri keşfi ve temel analiz adımlarını içerir.\n"
      ]
    },
    {
      "cell_type": "code",
      "execution_count": null,
      "metadata": {},
      "outputs": [],
      "source": [
        "import numpy as np\n",
        "import pandas as pd\n",
        "import matplotlib.pyplot as plt\n",
        "import seaborn as sns\n",
        "\n",
        "pd.set_option('display.max_columns', None)\n",
        "pd.set_option('display.width', None)\n",
        "pd.set_option('display.float_format', lambda x: f\"{x:.3f}\")\n",
        "\n",
        "print(\"✅ Kütüphaneler yüklendi ve ayarlandı\")\n"
      ]
    },
    {
      "cell_type": "markdown",
      "metadata": {},
      "source": [
        "## 📥 Veri Yükleme\n"
      ]
    },
    {
      "cell_type": "code",
      "execution_count": null,
      "metadata": {},
      "outputs": [],
      "source": [
        "train = pd.read_csv('datasets/housePrice/house_price_train.csv')\n",
        "test = pd.read_csv('datasets/housePrice/house_price_test.csv')\n",
        "print(f\"Train şekli: {train.shape}\")\n",
        "print(f\"Test şekli : {test.shape}\")\n",
        "train.head()\n"
      ]
    },
    {
      "cell_type": "markdown",
      "metadata": {},
      "source": [
        "## 🔎 Hızlı Genel Bakış\n",
        "\n",
        "Aşağıda sayısal sütunların temel istatistikleri ve eksik değer sayıları yer alır.\n"
      ]
    },
    {
      "cell_type": "code",
      "execution_count": null,
      "metadata": {},
      "outputs": [],
      "source": [
        "train.describe().T\n"
      ]
    },
    {
      "cell_type": "code",
      "execution_count": null,
      "metadata": {},
      "outputs": [],
      "source": [
        "train.isnull().sum().sort_values(ascending=False).head(15)\n"
      ]
    },
    {
      "cell_type": "markdown",
      "metadata": {},
      "source": [
        "## 🧭 Kategorik ve Sayısal Sütunlar\n"
      ]
    },
    {
      "cell_type": "code",
      "execution_count": null,
      "metadata": {},
      "outputs": [],
      "source": [
        "cat_cols = train.select_dtypes(include=['object']).columns.tolist()\n",
        "num_cols = train.select_dtypes(include=[np.number]).columns.tolist()\n",
        "print(f\"Kategorik: {len(cat_cols)} | Sayısal: {len(num_cols)}\")\n",
        "print(\"İlk 10 kategorik:\", cat_cols[:10])\n",
        "print(\"İlk 10 sayısal:  \", num_cols[:10])\n"
      ]
    },
    {
      "cell_type": "markdown",
      "metadata": {},
      "source": [
        "## 🎯 Hedef Değişken Dağılımı\n"
      ]
    },
    {
      "cell_type": "code",
      "execution_count": null,
      "metadata": {},
      "outputs": [],
      "source": [
        "import os\n",
        "os.makedirs('reports/figures', exist_ok=True)\n",
        "\n",
        "fig, axes = plt.subplots(1, 2, figsize=(12,4))\n",
        "axes[0].hist(train['SalePrice'], bins=50, color='#6baed6', edgecolor='white')\n",
        "axes[0].set_title('SalePrice')\n",
        "axes[1].hist(np.log1p(train['SalePrice']), bins=50, color='#31a354', edgecolor='white')\n",
        "axes[1].set_title('log1p(SalePrice)')\n",
        "plt.tight_layout()\n",
        "plt.savefig('reports/figures/target_distribution.png', dpi=150)\n",
        "plt.show()\n"
      ]
    },
    {
      "cell_type": "markdown",
      "metadata": {},
      "source": [
        "## 🔥 Korelasyon Isı Haritası (Sayısal Değişkenler)\n"
      ]
    },
    {
      "cell_type": "code",
      "execution_count": null,
      "metadata": {},
      "outputs": [],
      "source": [
        "corr = train.select_dtypes(include=[np.number]).corr()\n",
        "plt.figure(figsize=(12,10))\n",
        "sns.heatmap(corr, cmap='coolwarm', center=0)\n",
        "plt.title('Korelasyon Matrisi')\n",
        "plt.tight_layout()\n",
        "plt.savefig('reports/figures/correlation_heatmap.png', dpi=150)\n",
        "plt.show()\n",
        "\n",
        "print('SalePrice ile en yüksek korelasyonlu ilk 10 değişken:')\n",
        "print(corr['SalePrice'].sort_values(ascending=False).head(10))\n"
      ]
    },
    {
      "cell_type": "markdown",
      "metadata": {},
      "source": [
        "## 🧱 Kategorik Değişkenlerin Hedefe Göre Ortalaması\n"
      ]
    },
    {
      "cell_type": "code",
      "execution_count": null,
      "metadata": {},
      "outputs": [],
      "source": [
        "for col in ['MSZoning','Neighborhood','HouseStyle']:\n",
        "    if col in train.columns:\n",
        "        order = train.groupby(col)['SalePrice'].mean().sort_values(ascending=False).index\n",
        "        plt.figure(figsize=(10,4))\n",
        "        sns.barplot(x=col, y='SalePrice', data=train, order=order, palette='Blues_d')\n",
        "        plt.title(f'{col} - Ortalama SalePrice')\n",
        "        plt.xticks(rotation=45, ha='right')\n",
        "        plt.tight_layout()\n",
        "        plt.savefig(f'reports/figures/{col}_target_mean.png', dpi=150)\n",
        "        plt.show()\n"
      ]
    },
    {
      "cell_type": "markdown",
      "metadata": {},
      "source": [
        "## 🧩 Eksik Değer Görselleştirme\n"
      ]
    },
    {
      "cell_type": "code",
      "execution_count": null,
      "metadata": {},
      "outputs": [],
      "source": [
        "na_counts = train.isnull().sum()\n",
        "na_counts = na_counts[na_counts>0].sort_values(ascending=False)\n",
        "plt.figure(figsize=(10,6))\n",
        "na_counts.head(20).plot(kind='bar', color='#fb6a4a')\n",
        "plt.title('Eksik Değer Sayıları (İlk 20)')\n",
        "plt.ylabel('Adet')\n",
        "plt.tight_layout()\n",
        "plt.savefig('reports/figures/missing_values.png', dpi=150)\n",
        "plt.show()\n",
        "na_counts.head(20)\n"
      ]
    },
    {
      "cell_type": "markdown",
      "metadata": {},
      "source": [
        "## 📈 Önemli Sayısal Değişkenler vs Hedef\n"
      ]
    },
    {
      "cell_type": "code",
      "execution_count": null,
      "metadata": {},
      "outputs": [],
      "source": [
        "plt.figure(figsize=(12,4))\n",
        "plt.subplot(1,2,1)\n",
        "sns.regplot(x='GrLivArea', y='SalePrice', data=train, scatter_kws={'alpha':0.4}, line_kws={'color':'red'})\n",
        "plt.title('GrLivArea vs SalePrice')\n",
        "\n",
        "plt.subplot(1,2,2)\n",
        "if 'OverallQual' in train.columns:\n",
        "    sns.boxplot(x='OverallQual', y='SalePrice', data=train, palette='viridis')\n",
        "    plt.title('OverallQual vs SalePrice')\n",
        "plt.tight_layout()\n",
        "plt.savefig('reports/figures/key_numeric_vs_target.png', dpi=150)\n",
        "plt.show()\n"
      ]
    }
  ],
  "metadata": {
    "language_info": {
      "name": "python"
    }
  },
  "nbformat": 4,
  "nbformat_minor": 2
}
