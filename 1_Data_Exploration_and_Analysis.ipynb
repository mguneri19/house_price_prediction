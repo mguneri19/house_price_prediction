{
  "cells": [
    {
      "cell_type": "markdown",
      "metadata": {},
      "source": [
        "# 🏠 Ev Fiyat Tahmin Projesi - Veri Keşfi ve Analizi\n",
        "\n",
        "Bu notebook, Kaggle House Prices veri seti üzerinde veri keşfi ve temel analiz adımlarını içerir.\n"
      ]
    },
    {
      "cell_type": "code",
      "execution_count": null,
      "metadata": {},
      "outputs": [],
      "source": [
        "import numpy as np\n",
        "import pandas as pd\n",
        "import matplotlib.pyplot as plt\n",
        "import seaborn as sns\n",
        "\n",
        "pd.set_option('display.max_columns', None)\n",
        "pd.set_option('display.width', None)\n",
        "pd.set_option('display.float_format', lambda x: f\"{x:.3f}\")\n",
        "\n",
        "print(\"✅ Kütüphaneler yüklendi ve ayarlandı\")\n"
      ]
    },
    {
      "cell_type": "markdown",
      "metadata": {},
      "source": [
        "## 📥 Veri Yükleme\n"
      ]
    },
    {
      "cell_type": "code",
      "execution_count": null,
      "metadata": {},
      "outputs": [],
      "source": [
        "train = pd.read_csv('datasets/housePrice/house_price_train.csv')\n",
        "test = pd.read_csv('datasets/housePrice/house_price_test.csv')\n",
        "print(f\"Train şekli: {train.shape}\")\n",
        "print(f\"Test şekli : {test.shape}\")\n",
        "train.head()\n"
      ]
    },
    {
      "cell_type": "markdown",
      "metadata": {},
      "source": [
        "## 🔎 Hızlı Genel Bakış\n",
        "\n",
        "Aşağıda sayısal sütunların temel istatistikleri ve eksik değer sayıları yer alır.\n"
      ]
    },
    {
      "cell_type": "code",
      "execution_count": null,
      "metadata": {},
      "outputs": [],
      "source": [
        "train.describe().T\n"
      ]
    },
    {
      "cell_type": "code",
      "execution_count": null,
      "metadata": {},
      "outputs": [],
      "source": [
        "train.isnull().sum().sort_values(ascending=False).head(15)\n"
      ]
    }
  ],
  "metadata": {
    "language_info": {
      "name": "python"
    }
  },
  "nbformat": 4,
  "nbformat_minor": 2
}
