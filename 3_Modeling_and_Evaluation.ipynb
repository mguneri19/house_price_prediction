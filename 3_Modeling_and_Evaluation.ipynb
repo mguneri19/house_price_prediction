{
  "cells": [
    {
      "cell_type": "markdown",
      "metadata": {},
      "source": [
        "# 🏠 Ev Fiyat Tahmin Projesi - Modelleme ve Değerlendirme\n",
        "\n",
        "Bu notebook, temel bir LightGBM modeli ile hızlı değerlendirme içerir (sadece sayısal özelliklerle).\n"
      ]
    },
    {
      "cell_type": "code",
      "execution_count": null,
      "metadata": {},
      "outputs": [],
      "source": [
        "import numpy as np\n",
        "import pandas as pd\n",
        "from sklearn.model_selection import train_test_split, cross_val_score\n",
        "from sklearn.metrics import mean_squared_error\n",
        "from lightgbm import LGBMRegressor\n",
        "from sklearn.linear_model import LinearRegression\n",
        "from sklearn.ensemble import RandomForestRegressor, GradientBoostingRegressor\n",
        "from sklearn.neighbors import KNeighborsRegressor\n",
        "from sklearn.tree import DecisionTreeRegressor\n",
        "from xgboost import XGBRegressor\n",
        "\n",
        "pd.set_option('display.max_columns', None)\n",
        "print(\"✅ Kütüphaneler yüklendi\")\n"
      ]
    },
    {
      "cell_type": "code",
      "execution_count": null,
      "metadata": {},
      "outputs": [],
      "source": [
        "# İşlenmiş veri üzerinden modelleme\n",
        "# Önce 2. notebook'u çalıştırıp processed_data.csv üretildiğinden emin olun\n",
        "\n",
        "df = pd.read_csv('processed_data.csv')\n",
        "train_df = df[df['SalePrice'].notnull()].copy()\n",
        "test_df = df[df['SalePrice'].isnull()].copy()\n",
        "\n",
        "y = train_df['SalePrice']\n",
        "X = train_df.drop(columns=['Id','SalePrice'], errors='ignore')\n",
        "\n",
        "X_train, X_val, y_train, y_val = train_test_split(X, y, test_size=0.2, random_state=42)\n",
        "X_train.shape, X_val.shape\n"
      ]
    },
    {
      "cell_type": "code",
      "execution_count": null,
      "metadata": {},
      "outputs": [],
      "source": [
        "# Basit LightGBM modeli\n",
        "model = LGBMRegressor(random_state=42)\n",
        "model.fit(X_train, y_train)\n",
        "\n",
        "pred = model.predict(X_val)\n",
        "rmse = (mean_squared_error(y_val, pred))**0.5\n",
        "print(f\"RMSE: {rmse:,.2f}\")\n"
      ]
    },
    {
      "cell_type": "markdown",
      "metadata": {},
      "source": [
        "> Not: Bu notebook hızlı bir doğrulama sunar. Tam pipeline için veri ön işleme notebook'una bakınız.\n"
      ]
    },
    {
      "cell_type": "markdown",
      "metadata": {},
      "source": [
        "## 🔧 Hiperparametre Optimizasyonu (Hızlı Grid)\n",
        "Daha iyi sonuç için küçük bir grid ile deneme yapılır.\n"
      ]
    },
    {
      "cell_type": "code",
      "execution_count": null,
      "metadata": {},
      "outputs": [],
      "source": [
        "from sklearn.model_selection import GridSearchCV\n",
        "params = {\n",
        "    'learning_rate':[0.01, 0.1],\n",
        "    'n_estimators':[500, 1500],\n",
        "}\n",
        "gs = GridSearchCV(LGBMRegressor(random_state=42), params, cv=3,\n",
        "                  scoring='neg_mean_squared_error', n_jobs=-1)\n",
        "gs.fit(X_train, y_train)\n",
        "print('Best params:', gs.best_params_)\n",
        "print('CV RMSE:', (-gs.best_score_)**0.5)\n"
      ]
    },
    {
      "cell_type": "markdown",
      "metadata": {},
      "source": [
        "## 📈 Feature Importance\n",
        "En önemli değişkenleri görselleştirelim.\n"
      ]
    },
    {
      "cell_type": "code",
      "execution_count": null,
      "metadata": {},
      "outputs": [],
      "source": [
        "import matplotlib.pyplot as plt\n",
        "import numpy as np\n",
        "best_model = gs.best_estimator_\n",
        "best_model.fit(X_train, y_train)\n",
        "imp = best_model.feature_importances_\n",
        "idx = np.argsort(imp)[-20:]\n",
        "plt.figure(figsize=(8,6))\n",
        "plt.barh(range(len(idx)), imp[idx])\n",
        "plt.yticks(range(len(idx)), X_train.columns[idx])\n",
        "plt.title('Feature Importance (Top 20)')\n",
        "plt.tight_layout()\n",
        "plt.show()\n"
      ]
    },
    {
      "cell_type": "markdown",
      "metadata": {},
      "source": [
        "## 🔁 Çoklu Model Karşılaştırma (CV RMSE)\n",
        "Script'teki model listesini kullanarak 5-katlı CV ile RMSE karşılaştırması.\n"
      ]
    },
    {
      "cell_type": "code",
      "execution_count": null,
      "metadata": {},
      "outputs": [],
      "source": [
        "models = [\n",
        "    ('LR', LinearRegression()),\n",
        "    ('KNN', KNeighborsRegressor()),\n",
        "    ('CART', DecisionTreeRegressor()),\n",
        "    ('RF', RandomForestRegressor()),\n",
        "    ('GBM', GradientBoostingRegressor()),\n",
        "    ('XGBoost', XGBRegressor(objective='reg:squarederror')),\n",
        "    ('LightGBM', LGBMRegressor()),\n",
        "]\n",
        "for name, reg in models:\n",
        "    rmse = np.mean(np.sqrt(-cross_val_score(reg, X, y, cv=5, scoring='neg_mean_squared_error')))\n",
        "    print(f\"RMSE: {rmse:.4f} ({name})\")\n"
      ]
    },
    {
      "cell_type": "markdown",
      "metadata": {},
      "source": [
        "## log1p Dönüşümü ile Modelleme\n",
        "Log dönüşümü sonrası RMSE'yi inverse alarak hesaplayalım.\n"
      ]
    },
    {
      "cell_type": "code",
      "execution_count": null,
      "metadata": {},
      "outputs": [],
      "source": [
        "y_log = np.log1p(train_df['SalePrice'])\n",
        "X_full = train_df.drop(columns=['Id','SalePrice'], errors='ignore')\n",
        "X_train, X_val, y_train, y_val = train_test_split(X_full, y_log, test_size=0.2, random_state=42)\n",
        "log_model = LGBMRegressor(random_state=42).fit(X_train, y_train)\n",
        "y_pred = log_model.predict(X_val)\n",
        "rmse = np.sqrt(mean_squared_error(np.expm1(y_val), np.expm1(y_pred)))\n",
        "print(f'Log-transform RMSE: {rmse:,.2f}')\n"
      ]
    },
    {
      "cell_type": "markdown",
      "metadata": {},
      "source": [
        "## 📤 Kaggle Submission\n",
        "Test seti için tahmin üretip `housePricePredictions.csv` olarak kaydedelim.\n"
      ]
    },
    {
      "cell_type": "code",
      "execution_count": null,
      "metadata": {},
      "outputs": [],
      "source": [
        "final_model = LGBMRegressor(random_state=42)\n",
        "final_model.fit(X_full, y_log)\n",
        "X_test_final = test_df.drop(columns=['Id','SalePrice'], errors='ignore')\n",
        "preds_log = final_model.predict(X_test_final)\n",
        "preds = np.expm1(preds_log)\n",
        "submission = pd.DataFrame({'Id': test_df['Id'].fillna(test_df.index), 'SalePrice': preds})\n",
        "submission.to_csv('housePricePredictions.csv', index=False)\n",
        "print('housePricePredictions.csv kaydedildi')\n"
      ]
    }
  ],
  "metadata": {
    "language_info": {
      "name": "python"
    }
  },
  "nbformat": 4,
  "nbformat_minor": 2
}
