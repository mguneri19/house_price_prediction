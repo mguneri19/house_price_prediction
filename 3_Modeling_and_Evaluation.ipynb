{
  "cells": [
    {
      "cell_type": "markdown",
      "metadata": {},
      "source": [
        "# 🏠 Ev Fiyat Tahmin Projesi - Modelleme ve Değerlendirme\n",
        "\n",
        "Bu notebook, temel bir LightGBM modeli ile hızlı değerlendirme içerir (sadece sayısal özelliklerle).\n"
      ]
    },
    {
      "cell_type": "code",
      "execution_count": null,
      "metadata": {},
      "outputs": [],
      "source": [
        "import numpy as np\n",
        "import pandas as pd\n",
        "from sklearn.model_selection import train_test_split\n",
        "from sklearn.metrics import mean_squared_error\n",
        "from lightgbm import LGBMRegressor\n",
        "\n",
        "pd.set_option('display.max_columns', None)\n",
        "print(\"✅ Kütüphaneler yüklendi\")\n"
      ]
    },
    {
      "cell_type": "code",
      "execution_count": null,
      "metadata": {},
      "outputs": [],
      "source": [
        "# Veri yükleme ve sayısal alt küme\n",
        "train = pd.read_csv('datasets/housePrice/house_price_train.csv')\n",
        "num_cols = train.select_dtypes(include=[np.number]).columns\n",
        "X = train[num_cols].drop(columns=['SalePrice'], errors='ignore')\n",
        "y = train['SalePrice']\n",
        "\n",
        "# Eksik değer doldurma\n",
        "X = X.fillna(X.median(numeric_only=True))\n",
        "\n",
        "X_train, X_val, y_train, y_val = train_test_split(X, y, test_size=0.2, random_state=42)\n",
        "X_train.shape, X_val.shape\n"
      ]
    },
    {
      "cell_type": "code",
      "execution_count": null,
      "metadata": {},
      "outputs": [],
      "source": [
        "# Basit LightGBM modeli\n",
        "model = LGBMRegressor(random_state=42)\n",
        "model.fit(X_train, y_train)\n",
        "\n",
        "pred = model.predict(X_val)\n",
        "rmse = (mean_squared_error(y_val, pred))**0.5\n",
        "print(f\"RMSE: {rmse:,.2f}\")\n"
      ]
    },
    {
      "cell_type": "markdown",
      "metadata": {},
      "source": [
        "> Not: Bu notebook hızlı bir doğrulama sunar. Tam pipeline için veri ön işleme notebook'una bakınız.\n"
      ]
    }
  ],
  "metadata": {
    "language_info": {
      "name": "python"
    }
  },
  "nbformat": 4,
  "nbformat_minor": 2
}
